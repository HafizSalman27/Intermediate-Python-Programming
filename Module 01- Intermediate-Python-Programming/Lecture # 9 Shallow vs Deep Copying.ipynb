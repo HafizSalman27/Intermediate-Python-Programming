{
 "cells": [
  {
   "cell_type": "markdown",
   "id": "4c3cd036",
   "metadata": {},
   "source": [
    "## Shallow vs Deep Copying"
   ]
  },
  {
   "cell_type": "code",
   "execution_count": null,
   "id": "9af42431",
   "metadata": {},
   "outputs": [
    {
     "name": "stdout",
     "output_type": "stream",
     "text": [
      "[-10, 1, 2, 3, 4]\n",
      "[-10, 1, 2, 3, 4]\n"
     ]
    }
   ],
   "source": [
    "org = [0, 1, 2, 3, 4]\n",
    "cpy = org                            ## This will not make an actual copy because this is assignment operator\n",
    "cpy[0] = -10 \n",
    "print (cpy)\n",
    "print (org)"
   ]
  },
  {
   "cell_type": "code",
   "execution_count": 3,
   "id": "a2394360",
   "metadata": {},
   "outputs": [
    {
     "name": "stdout",
     "output_type": "stream",
     "text": [
      "[-10, 1, 2, 3, 4]\n",
      "[0, 1, 2, 3, 4]\n"
     ]
    }
   ],
   "source": [
    "import copy\n",
    "org = [0, 1, 2, 3, 4]\n",
    "cpy = copy.copy(org)\n",
    "cpy[0] = -10\n",
    "print (cpy)\n",
    "print (org)"
   ]
  },
  {
   "cell_type": "code",
   "execution_count": 11,
   "id": "3a8057a9",
   "metadata": {},
   "outputs": [
    {
     "name": "stdout",
     "output_type": "stream",
     "text": [
      "[[0, -10, 2, 3, 4], [5, 6, 7, 8, 9]]\n",
      "[[0, -10, 2, 3, 4], [5, 6, 7, 8, 9]]\n"
     ]
    }
   ],
   "source": [
    "import copy\n",
    "\n",
    "org = [[0, 1, 2, 3, 4], [5, 6, 7, 8, 9]]\n",
    "cpy = copy.copy(org)\n",
    "cpy[0][1] = -10\n",
    "print (cpy)\n",
    "print (org)"
   ]
  },
  {
   "cell_type": "code",
   "execution_count": 12,
   "id": "7df1a5b5",
   "metadata": {},
   "outputs": [
    {
     "name": "stdout",
     "output_type": "stream",
     "text": [
      "[[0, -10, 2, 3, 4], [5, 6, 7, 8, 9]]\n",
      "[[0, 1, 2, 3, 4], [5, 6, 7, 8, 9]]\n"
     ]
    }
   ],
   "source": [
    "import copy\n",
    "\n",
    "org = [[0, 1, 2, 3, 4], [5, 6, 7, 8, 9]]\n",
    "cpy = copy.deepcopy(org)\n",
    "cpy[0][1] = -10\n",
    "print (cpy)\n",
    "print (org)"
   ]
  }
 ],
 "metadata": {
  "kernelspec": {
   "display_name": "Python 3",
   "language": "python",
   "name": "python3"
  },
  "language_info": {
   "codemirror_mode": {
    "name": "ipython",
    "version": 3
   },
   "file_extension": ".py",
   "mimetype": "text/x-python",
   "name": "python",
   "nbconvert_exporter": "python",
   "pygments_lexer": "ipython3",
   "version": "3.13.7"
  }
 },
 "nbformat": 4,
 "nbformat_minor": 5
}

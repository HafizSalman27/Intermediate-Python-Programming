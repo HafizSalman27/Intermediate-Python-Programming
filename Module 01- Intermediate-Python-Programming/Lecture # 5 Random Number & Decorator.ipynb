{
 "cells": [
  {
   "cell_type": "markdown",
   "id": "f18b87a7",
   "metadata": {},
   "source": [
    "## Random Number"
   ]
  },
  {
   "cell_type": "code",
   "execution_count": 1,
   "id": "4d6dd118",
   "metadata": {},
   "outputs": [
    {
     "name": "stdout",
     "output_type": "stream",
     "text": [
      "0.770022887615071\n"
     ]
    }
   ],
   "source": [
    "import random\n",
    "\n",
    "a = random.random()                  ## This is a random float in the range from 0 to 1\n",
    "print (a)"
   ]
  },
  {
   "cell_type": "code",
   "execution_count": 2,
   "id": "a523b833",
   "metadata": {},
   "outputs": [
    {
     "name": "stdout",
     "output_type": "stream",
     "text": [
      "4.425211925391244\n"
     ]
    }
   ],
   "source": [
    "import random \n",
    "a = random.uniform(1, 10)          ## This will produce a random float in this range\n",
    "print (a)"
   ]
  },
  {
   "cell_type": "code",
   "execution_count": 3,
   "id": "a25db808",
   "metadata": {},
   "outputs": [
    {
     "name": "stdout",
     "output_type": "stream",
     "text": [
      "9\n"
     ]
    }
   ],
   "source": [
    "import random \n",
    "a = random.randrange(1, 10)          ## This will pick a random integer in this range\n",
    "print (a)"
   ]
  },
  {
   "cell_type": "code",
   "execution_count": 4,
   "id": "6664b8d1",
   "metadata": {},
   "outputs": [
    {
     "name": "stdout",
     "output_type": "stream",
     "text": [
      "D\n"
     ]
    }
   ],
   "source": [
    "import random \n",
    "\n",
    "mylist = (\"ABCDFGH\")                   ## This will pick random choice from string\n",
    "\n",
    "a = random.choice(mylist)                  \n",
    "print (a)"
   ]
  },
  {
   "cell_type": "code",
   "execution_count": 5,
   "id": "7159a7e4",
   "metadata": {},
   "outputs": [
    {
     "name": "stdout",
     "output_type": "stream",
     "text": [
      "['C', 'F', 'B']\n"
     ]
    }
   ],
   "source": [
    "import random\n",
    "mylist = (\"ABCDFGH\") \n",
    "a = random.sample(mylist, 3)           ## We can pick multiple elements\n",
    "print (a)"
   ]
  },
  {
   "cell_type": "code",
   "execution_count": 6,
   "id": "f906e0bd",
   "metadata": {},
   "outputs": [
    {
     "name": "stdout",
     "output_type": "stream",
     "text": [
      "['A', 'G', 'D', 'C', 'B', 'F', 'H']\n"
     ]
    }
   ],
   "source": [
    "import random\n",
    "mylist = list(\"ABCDFGH\") \n",
    "random.shuffle(mylist)         ## This is shuffle method\n",
    "print (mylist)"
   ]
  },
  {
   "cell_type": "code",
   "execution_count": 7,
   "id": "28e6e9c2",
   "metadata": {},
   "outputs": [
    {
     "name": "stdout",
     "output_type": "stream",
     "text": [
      "[0.22941388 0.26636236 0.46859713]\n"
     ]
    }
   ],
   "source": [
    "import numpy as np\n",
    "a = np.random.rand(3)\n",
    "print (a)"
   ]
  },
  {
   "cell_type": "code",
   "execution_count": 8,
   "id": "abf5afd5",
   "metadata": {},
   "outputs": [
    {
     "name": "stdout",
     "output_type": "stream",
     "text": [
      "[[0.9338776  0.3025153  0.18084195]\n",
      " [0.60960587 0.69442547 0.00193576]\n",
      " [0.16199561 0.04834287 0.1833126 ]]\n"
     ]
    }
   ],
   "source": [
    "import numpy as np\n",
    "a = np.random.rand(3, 3)\n",
    "print (a)"
   ]
  },
  {
   "cell_type": "markdown",
   "id": "2129858b",
   "metadata": {},
   "source": [
    "## Decorator"
   ]
  },
  {
   "cell_type": "code",
   "execution_count": 10,
   "id": "65982fb6",
   "metadata": {},
   "outputs": [
    {
     "name": "stdout",
     "output_type": "stream",
     "text": [
      "Start\n",
      "Salman\n",
      "End\n"
     ]
    }
   ],
   "source": [
    "def start_end_decorator(func):\n",
    "\n",
    "    def wrapper():\n",
    "        print('Start')\n",
    "        func()\n",
    "        print('End')\n",
    "    return wrapper\n",
    "\n",
    "def print_name():\n",
    "    print('Salman')\n",
    "\n",
    "print_name = start_end_decorator(print_name)\n",
    "print_name ()            "
   ]
  },
  {
   "cell_type": "code",
   "execution_count": 13,
   "id": "8096da7e",
   "metadata": {},
   "outputs": [
    {
     "name": "stdout",
     "output_type": "stream",
     "text": [
      "Start\n",
      "End\n",
      "15\n"
     ]
    }
   ],
   "source": [
    "def start_end_decorator(func):\n",
    "\n",
    "    def wrapper(*args, **kwargs):\n",
    "        print('Start')\n",
    "        result = func(*args, **kwargs)\n",
    "        print('End')\n",
    "        return result\n",
    "    return wrapper\n",
    "\n",
    "@start_end_decorator\n",
    "def add5(x):\n",
    "    return x + 5\n",
    "\n",
    "result = add5(10) \n",
    "print (result)   "
   ]
  },
  {
   "cell_type": "code",
   "execution_count": 14,
   "id": "113bbd6e",
   "metadata": {},
   "outputs": [
    {
     "name": "stdout",
     "output_type": "stream",
     "text": [
      "Hello Salman\n",
      "Hello Salman\n",
      "Hello Salman\n",
      "Hello Salman\n"
     ]
    }
   ],
   "source": [
    "import functools\n",
    "\n",
    "def repeat(num_times):\n",
    "    def decorator_repeat(func):\n",
    "        @functools.wraps(func)\n",
    "        def wrapper(*args, **kwargs):\n",
    "            for _ in range (num_times):\n",
    "                result = func (*args, **kwargs)\n",
    "            return result\n",
    "        return wrapper\n",
    "    return decorator_repeat\n",
    "\n",
    "@repeat(num_times=4)\n",
    "def greet(name):\n",
    "    print (f'Hello {name}')                \n",
    "\n",
    "greet('Salman')    "
   ]
  },
  {
   "cell_type": "code",
   "execution_count": 16,
   "id": "384f7d8f",
   "metadata": {},
   "outputs": [
    {
     "name": "stdout",
     "output_type": "stream",
     "text": [
      "This is executed 1 times\n",
      "Hello\n"
     ]
    }
   ],
   "source": [
    "class CountCalls:\n",
    "    def __init__(self, func):\n",
    "        self.func = func\n",
    "        self.num_calls = 0\n",
    "\n",
    "    def __call__(self, *args, **kwargs):\n",
    "        self.num_calls += 1\n",
    "        print (f'This is executed {self.num_calls} times')\n",
    "        return self.func(*args, **kwargs)\n",
    "\n",
    "@CountCalls\n",
    "def say_hello():\n",
    "    print ('Hello') \n",
    "\n",
    "say_hello()               "
   ]
  },
  {
   "cell_type": "code",
   "execution_count": null,
   "id": "ac591458",
   "metadata": {},
   "outputs": [],
   "source": []
  }
 ],
 "metadata": {
  "kernelspec": {
   "display_name": "Python 3",
   "language": "python",
   "name": "python3"
  },
  "language_info": {
   "codemirror_mode": {
    "name": "ipython",
    "version": 3
   },
   "file_extension": ".py",
   "mimetype": "text/x-python",
   "name": "python",
   "nbconvert_exporter": "python",
   "pygments_lexer": "ipython3",
   "version": "3.13.7"
  }
 },
 "nbformat": 4,
 "nbformat_minor": 5
}

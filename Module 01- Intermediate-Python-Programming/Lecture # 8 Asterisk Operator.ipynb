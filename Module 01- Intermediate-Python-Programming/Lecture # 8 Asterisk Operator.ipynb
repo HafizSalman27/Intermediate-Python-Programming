{
 "cells": [
  {
   "cell_type": "markdown",
   "id": "a01b0d9d",
   "metadata": {},
   "source": [
    "## Asterisk Operator"
   ]
  },
  {
   "cell_type": "code",
   "execution_count": 1,
   "id": "f33f1b21",
   "metadata": {},
   "outputs": [
    {
     "name": "stdout",
     "output_type": "stream",
     "text": [
      "35\n"
     ]
    }
   ],
   "source": [
    "result = 5 * 7\n",
    "print (result)"
   ]
  },
  {
   "cell_type": "code",
   "execution_count": null,
   "id": "ae0e462e",
   "metadata": {},
   "outputs": [
    {
     "name": "stdout",
     "output_type": "stream",
     "text": [
      "16\n"
     ]
    }
   ],
   "source": [
    "result = 2 ** 4      ## This is power operation\n",
    "print (result)"
   ]
  },
  {
   "cell_type": "code",
   "execution_count": 3,
   "id": "d5b71121",
   "metadata": {},
   "outputs": [
    {
     "name": "stdout",
     "output_type": "stream",
     "text": [
      "(0, 1, 0, 1, 0, 1, 0, 1, 0, 1, 0, 1, 0, 1, 0, 1, 0, 1, 0, 1)\n"
     ]
    }
   ],
   "source": [
    "zeros = (0, 1) * 10\n",
    "print (zeros)"
   ]
  },
  {
   "cell_type": "code",
   "execution_count": 4,
   "id": "1752cb96",
   "metadata": {},
   "outputs": [
    {
     "name": "stdout",
     "output_type": "stream",
     "text": [
      "1 2 3\n"
     ]
    }
   ],
   "source": [
    "def foo (a, b, *, c):\n",
    "    print (a, b, c)\n",
    "\n",
    "foo (1, 2, c=3)    "
   ]
  },
  {
   "cell_type": "code",
   "execution_count": 5,
   "id": "ee3807b3",
   "metadata": {},
   "outputs": [
    {
     "name": "stdout",
     "output_type": "stream",
     "text": [
      "0 1 2\n"
     ]
    }
   ],
   "source": [
    "def foo (a, b, c):\n",
    "    print (a, b, c)\n",
    "\n",
    "my_list = [0, 1, 2]    \n",
    "foo (*my_list)"
   ]
  },
  {
   "cell_type": "code",
   "execution_count": 7,
   "id": "2944707f",
   "metadata": {},
   "outputs": [
    {
     "name": "stdout",
     "output_type": "stream",
     "text": [
      "[1, 2, 3, 4, 5]\n",
      "6\n"
     ]
    }
   ],
   "source": [
    "numbers = (1, 2, 3, 4, 5, 6)\n",
    "*beginning, last = numbers\n",
    "print (beginning)\n",
    "print (last)"
   ]
  },
  {
   "cell_type": "code",
   "execution_count": 8,
   "id": "3f700bf7",
   "metadata": {},
   "outputs": [
    {
     "name": "stdout",
     "output_type": "stream",
     "text": [
      "1\n",
      "[2, 3, 4, 5, 6]\n"
     ]
    }
   ],
   "source": [
    "numbers = (1, 2, 3, 4, 5, 6)\n",
    "beginning, *last = numbers\n",
    "print (beginning)\n",
    "print (last)"
   ]
  },
  {
   "cell_type": "code",
   "execution_count": 9,
   "id": "a842ce34",
   "metadata": {},
   "outputs": [
    {
     "name": "stdout",
     "output_type": "stream",
     "text": [
      "1\n",
      "[2, 3, 4, 5]\n",
      "6\n"
     ]
    }
   ],
   "source": [
    "numbers = (1, 2, 3, 4, 5, 6)\n",
    "beginning, *middle, last = numbers\n",
    "print (beginning)\n",
    "print (middle)\n",
    "print (last)"
   ]
  },
  {
   "cell_type": "code",
   "execution_count": 10,
   "id": "e6c44782",
   "metadata": {},
   "outputs": [
    {
     "name": "stdout",
     "output_type": "stream",
     "text": [
      "[1, 2, 3, 4, 5, 6]\n"
     ]
    }
   ],
   "source": [
    "my_tuple = (1, 2, 3)\n",
    "my_list = [4, 5, 6]\n",
    "\n",
    "new_list = [*my_tuple, *my_list]\n",
    "print (new_list)"
   ]
  }
 ],
 "metadata": {
  "kernelspec": {
   "display_name": "Python 3",
   "language": "python",
   "name": "python3"
  },
  "language_info": {
   "codemirror_mode": {
    "name": "ipython",
    "version": 3
   },
   "file_extension": ".py",
   "mimetype": "text/x-python",
   "name": "python",
   "nbconvert_exporter": "python",
   "pygments_lexer": "ipython3",
   "version": "3.13.7"
  }
 },
 "nbformat": 4,
 "nbformat_minor": 5
}

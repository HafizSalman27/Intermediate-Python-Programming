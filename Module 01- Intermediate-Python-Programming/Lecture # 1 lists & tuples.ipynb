{
 "cells": [
  {
   "cell_type": "markdown",
   "id": "bbe78408-4d21-402b-a003-2a4323eb8efc",
   "metadata": {},
   "source": [
    "## Lists: Ordered, Mutable, Allows duplicate elements"
   ]
  },
  {
   "cell_type": "code",
   "execution_count": 1,
   "id": "59382bef",
   "metadata": {},
   "outputs": [
    {
     "name": "stdout",
     "output_type": "stream",
     "text": [
      "['Banana', 'Cherry', 'apple']\n"
     ]
    }
   ],
   "source": [
    "mylist = [\"Banana\", \"Cherry\", \"apple\"]\n",
    "print (mylist)"
   ]
  },
  {
   "cell_type": "code",
   "execution_count": null,
   "id": "447a21c8",
   "metadata": {},
   "outputs": [
    {
     "name": "stdout",
     "output_type": "stream",
     "text": [
      "Banana\n"
     ]
    }
   ],
   "source": [
    "item = mylist[0]  #Print Index\n",
    "print (item)"
   ]
  },
  {
   "cell_type": "code",
   "execution_count": 3,
   "id": "660b54c0",
   "metadata": {},
   "outputs": [
    {
     "name": "stdout",
     "output_type": "stream",
     "text": [
      "Yes\n"
     ]
    }
   ],
   "source": [
    "if \"apple\" in mylist:\n",
    "    print(\"Yes\")\n",
    "else:\n",
    "    print (\"No\")    "
   ]
  },
  {
   "cell_type": "code",
   "execution_count": 4,
   "id": "4237664d",
   "metadata": {},
   "outputs": [
    {
     "name": "stdout",
     "output_type": "stream",
     "text": [
      "3\n"
     ]
    }
   ],
   "source": [
    "print (len(mylist))"
   ]
  },
  {
   "cell_type": "code",
   "execution_count": null,
   "id": "716db040",
   "metadata": {},
   "outputs": [
    {
     "name": "stdout",
     "output_type": "stream",
     "text": [
      "['Banana', 'Cherry', 'apple', 'Lemon']\n"
     ]
    }
   ],
   "source": [
    "mylist.append(\"Lemon\")\n",
    "print (mylist)"
   ]
  },
  {
   "cell_type": "code",
   "execution_count": 7,
   "id": "575e9c5c",
   "metadata": {},
   "outputs": [
    {
     "name": "stdout",
     "output_type": "stream",
     "text": [
      "['Banana', 'Blueberry', 'Cherry', 'apple', 'Lemon']\n"
     ]
    }
   ],
   "source": [
    "mylist.insert(1, \"Blueberry\")\n",
    "print (mylist)"
   ]
  },
  {
   "cell_type": "code",
   "execution_count": null,
   "id": "8343b22b",
   "metadata": {},
   "outputs": [
    {
     "name": "stdout",
     "output_type": "stream",
     "text": [
      "Lemon\n",
      "['Banana', 'Blueberry', 'Cherry', 'apple']\n"
     ]
    }
   ],
   "source": [
    "item = mylist.pop() #Remove the item form the end\n",
    "print (item)\n",
    "print (mylist)"
   ]
  },
  {
   "cell_type": "code",
   "execution_count": null,
   "id": "6fe58ed0",
   "metadata": {},
   "outputs": [
    {
     "name": "stdout",
     "output_type": "stream",
     "text": [
      "None\n",
      "['Banana', 'Cherry', 'apple']\n"
     ]
    }
   ],
   "source": [
    "item = mylist.remove(\"Blueberry\") #Remove Specific item form the list\n",
    "print (item)\n",
    "print (mylist)"
   ]
  },
  {
   "cell_type": "code",
   "execution_count": null,
   "id": "d159f76f",
   "metadata": {},
   "outputs": [
    {
     "name": "stdout",
     "output_type": "stream",
     "text": [
      "['apple', 'Cherry', 'Banana']\n"
     ]
    }
   ],
   "source": [
    "item = mylist.reverse()  #Reverse the list\n",
    "print (mylist)"
   ]
  },
  {
   "cell_type": "code",
   "execution_count": 14,
   "id": "4f71fbb4",
   "metadata": {},
   "outputs": [
    {
     "name": "stdout",
     "output_type": "stream",
     "text": [
      "[1, 4, 5, 3, 2, -4, -2, 0, -3]\n"
     ]
    }
   ],
   "source": [
    "numberslist = [1, 4, 5, 3, 2, -4, -2, 0, -3]\n",
    "print (numberslist)"
   ]
  },
  {
   "cell_type": "code",
   "execution_count": null,
   "id": "b3f8bf55",
   "metadata": {},
   "outputs": [
    {
     "name": "stdout",
     "output_type": "stream",
     "text": [
      "[-4, -3, -2, 0, 1, 2, 3, 4, 5]\n"
     ]
    }
   ],
   "source": [
    "numberslist.sort()    # In Acending order       \n",
    "print (numberslist)"
   ]
  },
  {
   "cell_type": "markdown",
   "id": "a682a778",
   "metadata": {},
   "source": [
    "### Slicing in Python "
   ]
  },
  {
   "cell_type": "code",
   "execution_count": 15,
   "id": "3cc60873",
   "metadata": {},
   "outputs": [
    {
     "name": "stdout",
     "output_type": "stream",
     "text": [
      "[2, 3, 4, 5]\n"
     ]
    }
   ],
   "source": [
    "num = [1, 2, 3, 4, 5, 6, 7, 8, 9]\n",
    "a = num [1:5]\n",
    "print (a)"
   ]
  },
  {
   "cell_type": "code",
   "execution_count": 17,
   "id": "b46d8310",
   "metadata": {},
   "outputs": [
    {
     "name": "stdout",
     "output_type": "stream",
     "text": [
      "[1, 2, 3, 4, 5]\n"
     ]
    }
   ],
   "source": [
    "a = num [:5]\n",
    "print (a)"
   ]
  },
  {
   "cell_type": "code",
   "execution_count": 19,
   "id": "ca88d934",
   "metadata": {},
   "outputs": [
    {
     "name": "stdout",
     "output_type": "stream",
     "text": [
      "[3, 4, 5, 6, 7, 8, 9]\n"
     ]
    }
   ],
   "source": [
    "a = num [2:]\n",
    "print (a)"
   ]
  },
  {
   "cell_type": "code",
   "execution_count": 22,
   "id": "83814fa3",
   "metadata": {},
   "outputs": [
    {
     "name": "stdout",
     "output_type": "stream",
     "text": [
      "[3, 5, 7]\n"
     ]
    }
   ],
   "source": [
    "a = num [2:7:2]  #step Index\n",
    "print (a)"
   ]
  },
  {
   "cell_type": "markdown",
   "id": "d00caee0",
   "metadata": {},
   "source": [
    "### Tuple: Ordered, immutable, allows duplicate elements "
   ]
  },
  {
   "cell_type": "code",
   "execution_count": 23,
   "id": "80ba5263",
   "metadata": {},
   "outputs": [
    {
     "name": "stdout",
     "output_type": "stream",
     "text": [
      "('Max', 20, 'Salman')\n"
     ]
    }
   ],
   "source": [
    "mytuple = (\"Max\", 20, \"Salman\")\n",
    "print (mytuple)"
   ]
  },
  {
   "cell_type": "code",
   "execution_count": null,
   "id": "2ee002dc",
   "metadata": {},
   "outputs": [
    {
     "name": "stdout",
     "output_type": "stream",
     "text": [
      "<class 'tuple'>\n"
     ]
    }
   ],
   "source": [
    "print (type(mytuple))  # Print type "
   ]
  },
  {
   "cell_type": "code",
   "execution_count": 25,
   "id": "2d00ebdb",
   "metadata": {},
   "outputs": [
    {
     "name": "stdout",
     "output_type": "stream",
     "text": [
      "Max\n"
     ]
    }
   ],
   "source": [
    "item = mytuple[0]\n",
    "print (item)"
   ]
  },
  {
   "cell_type": "code",
   "execution_count": 27,
   "id": "6693ee1c",
   "metadata": {},
   "outputs": [
    {
     "name": "stdout",
     "output_type": "stream",
     "text": [
      "Salman\n"
     ]
    }
   ],
   "source": [
    "item = mytuple[2]\n",
    "print (item)"
   ]
  },
  {
   "cell_type": "code",
   "execution_count": 28,
   "id": "e2eef55f",
   "metadata": {},
   "outputs": [
    {
     "name": "stdout",
     "output_type": "stream",
     "text": [
      "20\n"
     ]
    }
   ],
   "source": [
    "item = mytuple[-2] #  Negative Index    \n",
    "print (item)"
   ]
  },
  {
   "cell_type": "code",
   "execution_count": 29,
   "id": "86262467",
   "metadata": {},
   "outputs": [
    {
     "name": "stdout",
     "output_type": "stream",
     "text": [
      "Max\n",
      "20\n",
      "Salman\n"
     ]
    }
   ],
   "source": [
    "for i in mytuple:\n",
    "    print (i)"
   ]
  },
  {
   "cell_type": "code",
   "execution_count": null,
   "id": "97c0e721",
   "metadata": {},
   "outputs": [
    {
     "name": "stdout",
     "output_type": "stream",
     "text": [
      "Yes\n"
     ]
    }
   ],
   "source": [
    "if \"Salman\" in mytuple:  # If Statement     \n",
    "    print (\"Yes\")\n",
    "else:\n",
    "    print (\"No\")    "
   ]
  },
  {
   "cell_type": "code",
   "execution_count": 32,
   "id": "7dce2362",
   "metadata": {},
   "outputs": [
    {
     "name": "stdout",
     "output_type": "stream",
     "text": [
      "NO\n"
     ]
    }
   ],
   "source": [
    "if \"Aamir\" in mytuple:\n",
    "    print (\"Yes\")\n",
    "else: \n",
    "    print (\"NO\")    "
   ]
  },
  {
   "cell_type": "code",
   "execution_count": null,
   "id": "cc0bde56",
   "metadata": {},
   "outputs": [
    {
     "name": "stdout",
     "output_type": "stream",
     "text": [
      "5\n"
     ]
    }
   ],
   "source": [
    "my_tuple = (\"a\", \"p\", \"p\", \"l\", \"e\")   # If we want to count items inside the tuple\n",
    "print (len(my_tuple))"
   ]
  },
  {
   "cell_type": "code",
   "execution_count": null,
   "id": "d581716e",
   "metadata": {},
   "outputs": [
    {
     "name": "stdout",
     "output_type": "stream",
     "text": [
      "3\n"
     ]
    }
   ],
   "source": [
    "print (my_tuple.index(\"l\")) # Find item for the spcific index from tuple"
   ]
  },
  {
   "cell_type": "code",
   "execution_count": null,
   "id": "76f86dee",
   "metadata": {},
   "outputs": [
    {
     "ename": "ValueError",
     "evalue": "tuple.index(x): x not in tuple",
     "output_type": "error",
     "traceback": [
      "\u001b[31m---------------------------------------------------------------------------\u001b[39m",
      "\u001b[31mValueError\u001b[39m                                Traceback (most recent call last)",
      "\u001b[36mCell\u001b[39m\u001b[36m \u001b[39m\u001b[32mIn[36]\u001b[39m\u001b[32m, line 1\u001b[39m\n\u001b[32m----> \u001b[39m\u001b[32m1\u001b[39m \u001b[38;5;28mprint\u001b[39m (\u001b[43mmy_tuple\u001b[49m\u001b[43m.\u001b[49m\u001b[43mindex\u001b[49m\u001b[43m(\u001b[49m\u001b[33;43m\"\u001b[39;49m\u001b[33;43mo\u001b[39;49m\u001b[33;43m\"\u001b[39;49m\u001b[43m)\u001b[49m)\n",
      "\u001b[31mValueError\u001b[39m: tuple.index(x): x not in tuple"
     ]
    }
   ],
   "source": [
    "print (my_tuple.index(\"o\"))  # If index not in tuple the error will accur"
   ]
  },
  {
   "cell_type": "code",
   "execution_count": 37,
   "id": "426983d5",
   "metadata": {},
   "outputs": [
    {
     "name": "stdout",
     "output_type": "stream",
     "text": [
      "(2, 3, 4, 5)\n"
     ]
    }
   ],
   "source": [
    "num_tuple = (1, 2, 3, 4, 5, 6, 7, 8, 9)\n",
    "\n",
    "a = num_tuple[1:5]\n",
    "print (a)"
   ]
  },
  {
   "cell_type": "code",
   "execution_count": 38,
   "id": "04e50a4f",
   "metadata": {},
   "outputs": [
    {
     "name": "stdout",
     "output_type": "stream",
     "text": [
      "(3, 5, 7)\n"
     ]
    }
   ],
   "source": [
    "a = num_tuple [2:7:2]\n",
    "print (a)"
   ]
  }
 ],
 "metadata": {
  "kernelspec": {
   "display_name": "Python 3",
   "language": "python",
   "name": "python3"
  },
  "language_info": {
   "codemirror_mode": {
    "name": "ipython",
    "version": 3
   },
   "file_extension": ".py",
   "mimetype": "text/x-python",
   "name": "python",
   "nbconvert_exporter": "python",
   "pygments_lexer": "ipython3",
   "version": "3.13.7"
  }
 },
 "nbformat": 4,
 "nbformat_minor": 5
}

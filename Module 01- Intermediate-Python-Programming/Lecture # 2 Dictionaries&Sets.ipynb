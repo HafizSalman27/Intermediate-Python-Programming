{
 "cells": [
  {
   "cell_type": "markdown",
   "id": "9313b201",
   "metadata": {},
   "source": [
    "### Dictionaries: Key value pairs, Unordered, Mutable"
   ]
  },
  {
   "cell_type": "code",
   "execution_count": 1,
   "id": "8d85906f",
   "metadata": {},
   "outputs": [
    {
     "name": "stdout",
     "output_type": "stream",
     "text": [
      "{'Name': 'Salman', 'age': '20', 'City': 'Lahore'}\n"
     ]
    }
   ],
   "source": [
    "mydict = {\"Name\": \"Salman\", \"age\": \"20\", \"City\": \"Lahore\"}\n",
    "print (mydict)"
   ]
  },
  {
   "cell_type": "code",
   "execution_count": 3,
   "id": "03230b89",
   "metadata": {},
   "outputs": [
    {
     "name": "stdout",
     "output_type": "stream",
     "text": [
      "Salman\n"
     ]
    }
   ],
   "source": [
    "value = mydict[\"Name\"]\n",
    "print (value)"
   ]
  },
  {
   "cell_type": "code",
   "execution_count": null,
   "id": "cd8a320a",
   "metadata": {},
   "outputs": [
    {
     "name": "stdout",
     "output_type": "stream",
     "text": [
      "{'Name': 'Salman', 'age': '20', 'City': 'Lahore', 'Mail': 'info@gmail.com'}\n"
     ]
    }
   ],
   "source": [
    "mydict[\"Mail\"] = \"info@gmail.com\" # Add the key value pair\n",
    "print (mydict)"
   ]
  },
  {
   "cell_type": "code",
   "execution_count": null,
   "id": "86f7d856",
   "metadata": {},
   "outputs": [
    {
     "name": "stdout",
     "output_type": "stream",
     "text": [
      "{'Name': 'Salman', 'age': '20', 'City': 'Lahore', 'Mail': 'editor@gamil.com'}\n"
     ]
    }
   ],
   "source": [
    "mydict[\"Mail\"] = \"editor@gamil.com\"  #If key already exist then got overwrite\n",
    "print (mydict)"
   ]
  },
  {
   "cell_type": "code",
   "execution_count": 6,
   "id": "30236815",
   "metadata": {},
   "outputs": [
    {
     "name": "stdout",
     "output_type": "stream",
     "text": [
      "{'Name': 'Salman', 'age': '20', 'City': 'Lahore'}\n"
     ]
    }
   ],
   "source": [
    "del mydict[\"Mail\"] # Delete the key value pair\n",
    "print (mydict)"
   ]
  },
  {
   "cell_type": "code",
   "execution_count": null,
   "id": "a643bdbe",
   "metadata": {},
   "outputs": [
    {
     "name": "stdout",
     "output_type": "stream",
     "text": [
      "{'Name': 'Salman', 'City': 'Lahore'}\n"
     ]
    }
   ],
   "source": [
    "mydict.pop(\"age\")   # Similar like del function\n",
    "print (mydict)"
   ]
  },
  {
   "cell_type": "code",
   "execution_count": null,
   "id": "0ba5aa5e",
   "metadata": {},
   "outputs": [
    {
     "name": "stdout",
     "output_type": "stream",
     "text": [
      "Name\n"
     ]
    }
   ],
   "source": [
    "if \"Name\" in mydict:              # iif statement \n",
    "    print (\"Name\")\n",
    "else:\n",
    "    print (\"Not in dict\")                   "
   ]
  },
  {
   "cell_type": "code",
   "execution_count": 17,
   "id": "4d7e2dcf",
   "metadata": {},
   "outputs": [
    {
     "name": "stdout",
     "output_type": "stream",
     "text": [
      "Salman\n"
     ]
    }
   ],
   "source": [
    "try:\n",
    "    print (mydict[\"Name\"])\n",
    "except:\n",
    "    print(\"Error\")    "
   ]
  },
  {
   "cell_type": "code",
   "execution_count": null,
   "id": "8c50523d",
   "metadata": {},
   "outputs": [
    {
     "name": "stdout",
     "output_type": "stream",
     "text": [
      "Error\n"
     ]
    }
   ],
   "source": [
    "try:                                         # If key value pair is not in dict then we got error\n",
    "    print (mydict[\"lastname\"])\n",
    "except:\n",
    "    print (\"Error\")    "
   ]
  },
  {
   "cell_type": "code",
   "execution_count": 21,
   "id": "02fcdefb",
   "metadata": {},
   "outputs": [
    {
     "name": "stdout",
     "output_type": "stream",
     "text": [
      "{'name': 'Hafiz', 'age': '20', 'city': 'lahore'}\n"
     ]
    }
   ],
   "source": [
    "dict2 = {\"name\": \"Hafiz\", \"age\": \"20\", \"city\": \"lahore\"}\n",
    "print (dict2)"
   ]
  },
  {
   "cell_type": "code",
   "execution_count": null,
   "id": "dd38343a",
   "metadata": {},
   "outputs": [
    {
     "name": "stdout",
     "output_type": "stream",
     "text": [
      "name\n",
      "age\n",
      "city\n"
     ]
    }
   ],
   "source": [
    "for key in dict2:  # Print the key  \n",
    "    print (key)"
   ]
  },
  {
   "cell_type": "code",
   "execution_count": null,
   "id": "38a870c5",
   "metadata": {},
   "outputs": [
    {
     "name": "stdout",
     "output_type": "stream",
     "text": [
      "Hafiz\n",
      "20\n",
      "lahore\n"
     ]
    }
   ],
   "source": [
    "for value in dict2.values():  # Print the value\n",
    "    print (value)"
   ]
  },
  {
   "cell_type": "code",
   "execution_count": null,
   "id": "23475a4d",
   "metadata": {},
   "outputs": [
    {
     "name": "stdout",
     "output_type": "stream",
     "text": [
      "name Hafiz\n",
      "age 20\n",
      "city lahore\n"
     ]
    }
   ],
   "source": [
    "for key, value in dict2.items():   # Print Both Key and value\n",
    "    print (key, value)"
   ]
  },
  {
   "cell_type": "markdown",
   "id": "07f88c97",
   "metadata": {},
   "source": [
    "### Sets: unordered, mutable, no duplicates"
   ]
  },
  {
   "cell_type": "code",
   "execution_count": 1,
   "id": "00c7811e",
   "metadata": {},
   "outputs": [
    {
     "name": "stdout",
     "output_type": "stream",
     "text": [
      "{1, 2, 3, 4, 5}\n"
     ]
    }
   ],
   "source": [
    "myset = {1, 2, 3, 4, 5}\n",
    "print (myset)"
   ]
  },
  {
   "cell_type": "code",
   "execution_count": null,
   "id": "ad9b5ffb",
   "metadata": {},
   "outputs": [
    {
     "name": "stdout",
     "output_type": "stream",
     "text": [
      "{1, 2, 3, 4, 5}\n"
     ]
    }
   ],
   "source": [
    "myset = {1, 2, 3, 4, 5, 1, 3, 5, 2}             # Set does not allow duplicates\n",
    "print (myset)"
   ]
  },
  {
   "cell_type": "code",
   "execution_count": 3,
   "id": "b50508f9",
   "metadata": {},
   "outputs": [
    {
     "name": "stdout",
     "output_type": "stream",
     "text": [
      "{1, 2, 3}\n"
     ]
    }
   ],
   "source": [
    "set1 = set()\n",
    "set1.add(1)\n",
    "set1.add(2)\n",
    "set1.add(3)\n",
    "print (set1)"
   ]
  },
  {
   "cell_type": "code",
   "execution_count": 4,
   "id": "59366da0",
   "metadata": {},
   "outputs": [
    {
     "name": "stdout",
     "output_type": "stream",
     "text": [
      "{2, 3}\n"
     ]
    }
   ],
   "source": [
    "set1.remove(1)\n",
    "print (set1)"
   ]
  },
  {
   "cell_type": "code",
   "execution_count": null,
   "id": "55f2b96d",
   "metadata": {},
   "outputs": [
    {
     "name": "stdout",
     "output_type": "stream",
     "text": [
      "Yes\n"
     ]
    }
   ],
   "source": [
    "if 2 in set1:                   # If statement\n",
    "    print (\"Yes\")\n",
    "else:\n",
    "    print (\"No\")    "
   ]
  },
  {
   "cell_type": "code",
   "execution_count": 8,
   "id": "d8c42c0a",
   "metadata": {},
   "outputs": [
    {
     "name": "stdout",
     "output_type": "stream",
     "text": [
      "No\n"
     ]
    }
   ],
   "source": [
    "if 1 in set1:\n",
    "    print (\"Yes\")\n",
    "else:\n",
    "    print (\"No\")    "
   ]
  },
  {
   "cell_type": "code",
   "execution_count": null,
   "id": "6c949a57",
   "metadata": {},
   "outputs": [
    {
     "name": "stdout",
     "output_type": "stream",
     "text": [
      "{0, 1, 2, 3, 4, 5, 6, 7, 8, 9}\n"
     ]
    }
   ],
   "source": [
    "odds = {1, 3, 5, 7, 9}                    \n",
    "evens = {0, 2, 4, 6, 8}\n",
    "primes = {2, 3, 5, 7}\n",
    "\n",
    "u = odds.union(evens)\n",
    "print (u)"
   ]
  },
  {
   "cell_type": "code",
   "execution_count": 10,
   "id": "5840a4ec",
   "metadata": {},
   "outputs": [
    {
     "name": "stdout",
     "output_type": "stream",
     "text": [
      "set()\n"
     ]
    }
   ],
   "source": [
    "i = odds.intersection(evens)\n",
    "print (i)"
   ]
  },
  {
   "cell_type": "code",
   "execution_count": 11,
   "id": "64e9b214",
   "metadata": {},
   "outputs": [
    {
     "name": "stdout",
     "output_type": "stream",
     "text": [
      "{3, 5, 7}\n"
     ]
    }
   ],
   "source": [
    "i = odds.intersection(primes)\n",
    "print (i)"
   ]
  },
  {
   "cell_type": "code",
   "execution_count": 12,
   "id": "ab68ad7f",
   "metadata": {},
   "outputs": [
    {
     "name": "stdout",
     "output_type": "stream",
     "text": [
      "{4, 5, 6, 7, 8, 9}\n"
     ]
    }
   ],
   "source": [
    "setA = {1, 2, 3, 4, 5, 6, 7, 8, 9}\n",
    "setB = {1, 2, 3, 10, 11, 12}\n",
    "\n",
    "diff = setA.difference(setB)\n",
    "print (diff)"
   ]
  },
  {
   "cell_type": "code",
   "execution_count": 13,
   "id": "35f7ebdb",
   "metadata": {},
   "outputs": [
    {
     "name": "stdout",
     "output_type": "stream",
     "text": [
      "{10, 11, 12}\n"
     ]
    }
   ],
   "source": [
    "diff = setB.difference(setA)\n",
    "print (diff)"
   ]
  },
  {
   "cell_type": "code",
   "execution_count": 14,
   "id": "50bb733a",
   "metadata": {},
   "outputs": [
    {
     "name": "stdout",
     "output_type": "stream",
     "text": [
      "{1, 2, 3, 4, 5, 6, 7, 8, 9, 10, 11, 12}\n"
     ]
    }
   ],
   "source": [
    "setA.update(setB)\n",
    "print(setA)"
   ]
  }
 ],
 "metadata": {
  "kernelspec": {
   "display_name": "Python 3",
   "language": "python",
   "name": "python3"
  },
  "language_info": {
   "codemirror_mode": {
    "name": "ipython",
    "version": 3
   },
   "file_extension": ".py",
   "mimetype": "text/x-python",
   "name": "python",
   "nbconvert_exporter": "python",
   "pygments_lexer": "ipython3",
   "version": "3.13.7"
  }
 },
 "nbformat": 4,
 "nbformat_minor": 5
}

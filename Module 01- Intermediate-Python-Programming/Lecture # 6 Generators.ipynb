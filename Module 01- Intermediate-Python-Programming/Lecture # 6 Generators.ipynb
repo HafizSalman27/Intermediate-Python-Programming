{
 "cells": [
  {
   "cell_type": "markdown",
   "id": "1254a70e",
   "metadata": {},
   "source": [
    "## Generator"
   ]
  },
  {
   "cell_type": "code",
   "execution_count": 6,
   "id": "82c8eba6",
   "metadata": {},
   "outputs": [
    {
     "name": "stdout",
     "output_type": "stream",
     "text": [
      "1\n",
      "2\n",
      "3\n"
     ]
    }
   ],
   "source": [
    "def mygenerator():\n",
    "    yield 1\n",
    "    yield 2\n",
    "    yield 3\n",
    "\n",
    "g = mygenerator()\n",
    "for i in g:\n",
    "    print (i)    "
   ]
  },
  {
   "cell_type": "code",
   "execution_count": 7,
   "id": "439018dc",
   "metadata": {},
   "outputs": [
    {
     "name": "stdout",
     "output_type": "stream",
     "text": [
      "1\n"
     ]
    }
   ],
   "source": [
    "def mygenerator():\n",
    "    yield 1\n",
    "    yield 2\n",
    "    yield 3\n",
    "\n",
    "g = mygenerator()\n",
    "value = next(g)\n",
    "print (value)"
   ]
  },
  {
   "cell_type": "code",
   "execution_count": 8,
   "id": "9acacffa",
   "metadata": {},
   "outputs": [
    {
     "name": "stdout",
     "output_type": "stream",
     "text": [
      "1\n",
      "2\n"
     ]
    }
   ],
   "source": [
    "def mygenerator():\n",
    "    yield 1\n",
    "    yield 2\n",
    "    yield 3\n",
    "\n",
    "g = mygenerator()\n",
    "value = next(g)\n",
    "print (value)\n",
    "value = next(g)\n",
    "print (value)"
   ]
  },
  {
   "cell_type": "code",
   "execution_count": 9,
   "id": "1a9fdb68",
   "metadata": {},
   "outputs": [
    {
     "name": "stdout",
     "output_type": "stream",
     "text": [
      "6\n"
     ]
    }
   ],
   "source": [
    "def mygenerator():\n",
    "    yield 1\n",
    "    yield 2\n",
    "    yield 3\n",
    "\n",
    "g = mygenerator()\n",
    "print(sum(g))"
   ]
  },
  {
   "cell_type": "code",
   "execution_count": 10,
   "id": "a0a02d5d",
   "metadata": {},
   "outputs": [
    {
     "data": {
      "text/plain": [
       "[1, 2, 3]"
      ]
     },
     "execution_count": 10,
     "metadata": {},
     "output_type": "execute_result"
    }
   ],
   "source": [
    "def mygenerator():\n",
    "    yield 1\n",
    "    yield 2\n",
    "    yield 3\n",
    "\n",
    "g = mygenerator()\n",
    "sorted(g)"
   ]
  },
  {
   "cell_type": "code",
   "execution_count": 11,
   "id": "54c5bcb2",
   "metadata": {},
   "outputs": [
    {
     "name": "stdout",
     "output_type": "stream",
     "text": [
      "Starting\n",
      "4\n",
      "3\n"
     ]
    }
   ],
   "source": [
    "def countdown(num):\n",
    "    print ('Starting')\n",
    "    while num > 0:\n",
    "        yield num\n",
    "        num -= 1\n",
    "\n",
    "cd = countdown(4)\n",
    "\n",
    "value = next(cd)\n",
    "print(value)\n",
    "print (next(cd))"
   ]
  },
  {
   "cell_type": "code",
   "execution_count": 12,
   "id": "a272268c",
   "metadata": {},
   "outputs": [
    {
     "name": "stdout",
     "output_type": "stream",
     "text": [
      "[0, 1, 2, 3, 4, 5, 6, 7, 8, 9]\n"
     ]
    }
   ],
   "source": [
    "def firstn (n):\n",
    "    nums = []\n",
    "    num = 0\n",
    "    while num < n:\n",
    "        nums.append(num)\n",
    "        num += 1\n",
    "    return nums\n",
    "\n",
    "print (firstn(10))          "
   ]
  },
  {
   "cell_type": "code",
   "execution_count": 13,
   "id": "d7f32e18",
   "metadata": {},
   "outputs": [
    {
     "name": "stdout",
     "output_type": "stream",
     "text": [
      "45\n"
     ]
    }
   ],
   "source": [
    "def firstn (n):\n",
    "    nums = []\n",
    "    num = 0\n",
    "    while num < n:\n",
    "        nums.append(num)\n",
    "        num += 1                                             \n",
    "    return nums\n",
    "\n",
    "print (sum(firstn(10)))                       ## We can also calculate sum"
   ]
  },
  {
   "cell_type": "code",
   "execution_count": 14,
   "id": "0ac8a39c",
   "metadata": {},
   "outputs": [
    {
     "name": "stdout",
     "output_type": "stream",
     "text": [
      "0\n",
      "1\n",
      "1\n",
      "2\n",
      "3\n",
      "5\n",
      "8\n",
      "13\n",
      "21\n"
     ]
    }
   ],
   "source": [
    "def fibonacci(limit):\n",
    "    a, b = 0, 1\n",
    "    while a < limit:\n",
    "        yield a\n",
    "        a, b = b, a + b\n",
    "\n",
    "fib = fibonacci(30)\n",
    "for i in fib:\n",
    "    print (i)        "
   ]
  }
 ],
 "metadata": {
  "kernelspec": {
   "display_name": "Python 3",
   "language": "python",
   "name": "python3"
  },
  "language_info": {
   "codemirror_mode": {
    "name": "ipython",
    "version": 3
   },
   "file_extension": ".py",
   "mimetype": "text/x-python",
   "name": "python",
   "nbconvert_exporter": "python",
   "pygments_lexer": "ipython3",
   "version": "3.13.7"
  }
 },
 "nbformat": 4,
 "nbformat_minor": 5
}

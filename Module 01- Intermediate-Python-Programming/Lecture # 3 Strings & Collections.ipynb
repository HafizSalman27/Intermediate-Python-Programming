{
 "cells": [
  {
   "cell_type": "markdown",
   "id": "d6a8d8c0",
   "metadata": {},
   "source": [
    "## Strings: Ordered, immutable, text representation"
   ]
  },
  {
   "cell_type": "code",
   "execution_count": 1,
   "id": "91150968",
   "metadata": {},
   "outputs": [
    {
     "name": "stdout",
     "output_type": "stream",
     "text": [
      "Hello World\n"
     ]
    }
   ],
   "source": [
    "my_string = \"Hello World\"\n",
    "print (my_string)"
   ]
  },
  {
   "cell_type": "code",
   "execution_count": null,
   "id": "763f2e7e",
   "metadata": {},
   "outputs": [
    {
     "name": "stdout",
     "output_type": "stream",
     "text": [
      "H\n"
     ]
    }
   ],
   "source": [
    "my_string = \"Hello World\"\n",
    "char = my_string[0]                     ## To find index from the strings\n",
    "print (char)"
   ]
  },
  {
   "cell_type": "code",
   "execution_count": 3,
   "id": "9f65c64b",
   "metadata": {},
   "outputs": [
    {
     "name": "stdout",
     "output_type": "stream",
     "text": [
      "d\n"
     ]
    }
   ],
   "source": [
    "my_string = \"Hello World\"\n",
    "char = my_string[-1]                     ## Also use negative index\n",
    "print (char)"
   ]
  },
  {
   "cell_type": "code",
   "execution_count": null,
   "id": "6e16b5d0",
   "metadata": {},
   "outputs": [
    {
     "ename": "TypeError",
     "evalue": "'str' object does not support item assignment",
     "output_type": "error",
     "traceback": [
      "\u001b[31m---------------------------------------------------------------------------\u001b[39m",
      "\u001b[31mTypeError\u001b[39m                                 Traceback (most recent call last)",
      "\u001b[36mCell\u001b[39m\u001b[36m \u001b[39m\u001b[32mIn[4]\u001b[39m\u001b[32m, line 2\u001b[39m\n\u001b[32m      1\u001b[39m my_string = \u001b[33m\"\u001b[39m\u001b[33mHello World\u001b[39m\u001b[33m\"\u001b[39m\n\u001b[32m----> \u001b[39m\u001b[32m2\u001b[39m \u001b[43mmy_string\u001b[49m\u001b[43m[\u001b[49m\u001b[32;43m0\u001b[39;49m\u001b[43m]\u001b[49m = \u001b[33m\"\u001b[39m\u001b[33mh\u001b[39m\u001b[33m\"\u001b[39m                      \u001b[38;5;66;03m## String object does not support item assignment\u001b[39;00m\n\u001b[32m      3\u001b[39m \u001b[38;5;28mprint\u001b[39m (char)\n",
      "\u001b[31mTypeError\u001b[39m: 'str' object does not support item assignment"
     ]
    }
   ],
   "source": [
    "my_string = \"Hello World\"\n",
    "my_string[0] = \"h\"                      ## String object does not support item assignment. This will raise an error\n",
    "print (char)"
   ]
  },
  {
   "cell_type": "code",
   "execution_count": null,
   "id": "74f9af5d",
   "metadata": {},
   "outputs": [
    {
     "name": "stdout",
     "output_type": "stream",
     "text": [
      "ello\n"
     ]
    }
   ],
   "source": [
    "my_string = \"Hello World\"\n",
    "substring = my_string [1:5]                ## Start at index one and goes until index five but index five is excluded\n",
    "print (substring)"
   ]
  },
  {
   "cell_type": "code",
   "execution_count": 6,
   "id": "08ed67cf",
   "metadata": {},
   "outputs": [
    {
     "name": "stdout",
     "output_type": "stream",
     "text": [
      "Hello\n"
     ]
    }
   ],
   "source": [
    "my_string = \"Hello World\"\n",
    "substring = my_string [:5]                  ## If I don't use a start index then it start from the beginning goes untill index five\n",
    "print (substring)"
   ]
  },
  {
   "cell_type": "code",
   "execution_count": 7,
   "id": "6c9e89d3",
   "metadata": {},
   "outputs": [
    {
     "name": "stdout",
     "output_type": "stream",
     "text": [
      "ello World\n"
     ]
    }
   ],
   "source": [
    "my_string = \"Hello World\"\n",
    "substring = my_string [1:]                ## If I don't use a stop index then it goes to the end\n",
    "print (substring)"
   ]
  },
  {
   "cell_type": "code",
   "execution_count": 1,
   "id": "375e6c4d",
   "metadata": {},
   "outputs": [
    {
     "name": "stdout",
     "output_type": "stream",
     "text": [
      "Hello Salman\n"
     ]
    }
   ],
   "source": [
    "greeting = \"Hello\"\n",
    "name = \"Salman\"\n",
    "sentence = greeting + \" \" + name\n",
    "\n",
    "print (sentence)"
   ]
  },
  {
   "cell_type": "code",
   "execution_count": 2,
   "id": "eb9d6e05",
   "metadata": {},
   "outputs": [
    {
     "name": "stdout",
     "output_type": "stream",
     "text": [
      "H\n",
      "e\n",
      "l\n",
      "l\n",
      "o\n"
     ]
    }
   ],
   "source": [
    "greeting = \"Hello\"\n",
    "for i in greeting:\n",
    "    print (i)"
   ]
  },
  {
   "cell_type": "code",
   "execution_count": 3,
   "id": "b0118195",
   "metadata": {},
   "outputs": [
    {
     "name": "stdout",
     "output_type": "stream",
     "text": [
      "Yes\n"
     ]
    }
   ],
   "source": [
    "greeting = \"Hello\"\n",
    "if \"e\" in greeting:\n",
    "    print (\"Yes\")\n",
    "else:\n",
    "    print (\"No\")    "
   ]
  },
  {
   "cell_type": "code",
   "execution_count": 4,
   "id": "edc086ab",
   "metadata": {},
   "outputs": [
    {
     "name": "stdout",
     "output_type": "stream",
     "text": [
      "No\n"
     ]
    }
   ],
   "source": [
    "greeting = \"Hello\"\n",
    "if \"w\" in greeting:                     ## If I check for w then it will print NO\n",
    "    print (\"Yes\")\n",
    "else:\n",
    "    print (\"No\")    "
   ]
  },
  {
   "cell_type": "code",
   "execution_count": null,
   "id": "b71ade89",
   "metadata": {},
   "outputs": [
    {
     "name": "stdout",
     "output_type": "stream",
     "text": [
      "            Hello World   \n"
     ]
    }
   ],
   "source": [
    "my_string = \"            Hello World   \"               ## Our printed string has the wide space\n",
    "print (my_string)"
   ]
  },
  {
   "cell_type": "code",
   "execution_count": 6,
   "id": "94150563",
   "metadata": {},
   "outputs": [
    {
     "name": "stdout",
     "output_type": "stream",
     "text": [
      "Hello World\n"
     ]
    }
   ],
   "source": [
    "my_string = \"            Hello World   \"               ## .strip method will remove the wide space \n",
    "my_string = my_string.strip()\n",
    "print (my_string)"
   ]
  },
  {
   "cell_type": "code",
   "execution_count": 8,
   "id": "c8a06c0a",
   "metadata": {},
   "outputs": [
    {
     "name": "stdout",
     "output_type": "stream",
     "text": [
      "4\n"
     ]
    }
   ],
   "source": [
    "my_string = \"Hello World\"                             ## This is will print index from the string\n",
    "print (my_string.find('o'))           "
   ]
  },
  {
   "cell_type": "code",
   "execution_count": 9,
   "id": "ec1e1a6c",
   "metadata": {},
   "outputs": [
    {
     "name": "stdout",
     "output_type": "stream",
     "text": [
      "2\n"
     ]
    }
   ],
   "source": [
    "my_string = \"Hello World\"                             ## We can also find count index from string\n",
    "print (my_string.count('o'))"
   ]
  },
  {
   "cell_type": "code",
   "execution_count": 11,
   "id": "e360c252",
   "metadata": {},
   "outputs": [
    {
     "name": "stdout",
     "output_type": "stream",
     "text": [
      "Hello World\n",
      "Hello Universe\n"
     ]
    }
   ],
   "source": [
    "my_string = \"Hello World\"\n",
    "print (my_string)\n",
    "print (my_string.replace('World', 'Universe'))               ## We can also replace the substring"
   ]
  },
  {
   "cell_type": "code",
   "execution_count": 12,
   "id": "222fe77d",
   "metadata": {},
   "outputs": [
    {
     "name": "stdout",
     "output_type": "stream",
     "text": [
      "['a', 'a', 'a', 'a', 'a', 'a']\n"
     ]
    }
   ],
   "source": [
    "my_list = ['a'] * 6\n",
    "print (my_list)"
   ]
  },
  {
   "cell_type": "code",
   "execution_count": null,
   "id": "147302b7",
   "metadata": {},
   "outputs": [
    {
     "name": "stdout",
     "output_type": "stream",
     "text": [
      "['a', 'a', 'a', 'a', 'a', 'a']\n",
      "aaaaaa\n"
     ]
    }
   ],
   "source": [
    "my_list = ['a'] * 6\n",
    "print (my_list)                         \n",
    "my_string = \"\".join(my_list)           ## This is will convert into string     \n",
    "print (my_string)"
   ]
  },
  {
   "cell_type": "code",
   "execution_count": null,
   "id": "0dd7ae8c",
   "metadata": {},
   "outputs": [
    {
     "name": "stdout",
     "output_type": "stream",
     "text": [
      "the variable is 3.21435 and 6\n"
     ]
    }
   ],
   "source": [
    "var = 3.21435\n",
    "var2 = 6                       \n",
    "my_string = f\"the variable is {var} and {var2}\"                       ## f-string method\n",
    "print (my_string)"
   ]
  },
  {
   "cell_type": "markdown",
   "id": "88163bce",
   "metadata": {},
   "source": [
    "## Collections: Counter, namedtuple, OrderedDict, defaultdict, deque"
   ]
  },
  {
   "cell_type": "code",
   "execution_count": 17,
   "id": "0a452e60",
   "metadata": {},
   "outputs": [
    {
     "name": "stdout",
     "output_type": "stream",
     "text": [
      "Counter({'b': 6, 'a': 5, 'c': 3})\n"
     ]
    }
   ],
   "source": [
    "from collections import Counter \n",
    "a = 'aaaaabbbbbbccc'\n",
    "my_counter = Counter(a)\n",
    "print (my_counter)\n"
   ]
  },
  {
   "cell_type": "code",
   "execution_count": null,
   "id": "ee5cc3cf",
   "metadata": {},
   "outputs": [
    {
     "name": "stdout",
     "output_type": "stream",
     "text": [
      "Counter({'b': 6, 'a': 5, 'c': 3})\n",
      "['a', 'a', 'a', 'a', 'a', 'b', 'b', 'b', 'b', 'b', 'b', 'c', 'c', 'c']\n"
     ]
    }
   ],
   "source": [
    "from collections import Counter \n",
    "a = 'aaaaabbbbbbccc'\n",
    "my_counter = Counter(a)\n",
    "print (my_counter)\n",
    "print (list(my_counter.elements()))                                  ## This will get all the different elements here as a list"
   ]
  },
  {
   "cell_type": "code",
   "execution_count": 21,
   "id": "d00a8e60",
   "metadata": {},
   "outputs": [
    {
     "name": "stdout",
     "output_type": "stream",
     "text": [
      "Point(x=1, y=-4)\n"
     ]
    }
   ],
   "source": [
    "from collections import namedtuple\n",
    "Point = namedtuple ('Point', 'x,y')\n",
    "pt = Point(1, -4)\n",
    "print (pt)"
   ]
  },
  {
   "cell_type": "code",
   "execution_count": null,
   "id": "dd64f426",
   "metadata": {},
   "outputs": [
    {
     "name": "stdout",
     "output_type": "stream",
     "text": [
      "1 -4\n"
     ]
    }
   ],
   "source": [
    "from collections import namedtuple\n",
    "Point = namedtuple ('Point', 'x,y') \n",
    "pt = Point(1, -4)\n",
    "print (pt.x, pt.y)                              ## So this will print the value for x and y"
   ]
  },
  {
   "cell_type": "code",
   "execution_count": 23,
   "id": "f2e7065e",
   "metadata": {},
   "outputs": [
    {
     "name": "stdout",
     "output_type": "stream",
     "text": [
      "OrderedDict({'a': 1, 'b': 2, 'c': 3, 'd': 4})\n"
     ]
    }
   ],
   "source": [
    "from collections import OrderedDict\n",
    "\n",
    "ordered_dict = OrderedDict()\n",
    "ordered_dict['a'] = 1\n",
    "ordered_dict['b'] = 2\n",
    "ordered_dict['c'] = 3\n",
    "ordered_dict['d'] = 4\n",
    "print (ordered_dict)"
   ]
  },
  {
   "cell_type": "code",
   "execution_count": 25,
   "id": "5a2196c5",
   "metadata": {},
   "outputs": [
    {
     "name": "stdout",
     "output_type": "stream",
     "text": [
      "1\n"
     ]
    }
   ],
   "source": [
    "from collections import defaultdict\n",
    "\n",
    "d = defaultdict(int)\n",
    "d['a'] = 1\n",
    "d['b'] = 2\n",
    "print (d['a'])"
   ]
  },
  {
   "cell_type": "code",
   "execution_count": 26,
   "id": "1105e4d1",
   "metadata": {},
   "outputs": [
    {
     "name": "stdout",
     "output_type": "stream",
     "text": [
      "0\n"
     ]
    }
   ],
   "source": [
    "from collections import defaultdict\n",
    "\n",
    "d = defaultdict(int)                              ## If I put in a key that does not exist it will return default value\n",
    "d['a'] = 1\n",
    "d['b'] = 2                             \n",
    "print (d['c'])"
   ]
  },
  {
   "cell_type": "code",
   "execution_count": 27,
   "id": "7b3fa4b8",
   "metadata": {},
   "outputs": [
    {
     "name": "stdout",
     "output_type": "stream",
     "text": [
      "deque([1, 2])\n"
     ]
    }
   ],
   "source": [
    "from collections import deque\n",
    "\n",
    "d= deque()\n",
    "\n",
    "d.append(1)\n",
    "d.append(2)\n",
    "\n",
    "print (d)"
   ]
  },
  {
   "cell_type": "code",
   "execution_count": null,
   "id": "c95b4541",
   "metadata": {},
   "outputs": [
    {
     "name": "stdout",
     "output_type": "stream",
     "text": [
      "deque([3, 1, 2])\n"
     ]
    }
   ],
   "source": [
    "from collections import deque\n",
    "\n",
    "d= deque()\n",
    "\n",
    "d.append(1)\n",
    "d.append(2)                   ## This will add 3 at the left side\n",
    "d.appendleft(3)\n",
    "print (d)"
   ]
  }
 ],
 "metadata": {
  "kernelspec": {
   "display_name": "Python 3",
   "language": "python",
   "name": "python3"
  },
  "language_info": {
   "codemirror_mode": {
    "name": "ipython",
    "version": 3
   },
   "file_extension": ".py",
   "mimetype": "text/x-python",
   "name": "python",
   "nbconvert_exporter": "python",
   "pygments_lexer": "ipython3",
   "version": "3.13.7"
  }
 },
 "nbformat": 4,
 "nbformat_minor": 5
}

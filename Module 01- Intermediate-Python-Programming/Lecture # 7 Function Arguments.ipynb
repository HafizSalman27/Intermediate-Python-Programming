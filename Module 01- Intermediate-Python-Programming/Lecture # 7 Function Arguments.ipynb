{
 "cells": [
  {
   "cell_type": "markdown",
   "id": "c6dbaa59",
   "metadata": {},
   "source": [
    "## Function Arguments"
   ]
  },
  {
   "cell_type": "code",
   "execution_count": 1,
   "id": "8b866bfb",
   "metadata": {},
   "outputs": [
    {
     "name": "stdout",
     "output_type": "stream",
     "text": [
      "1 2 3\n"
     ]
    }
   ],
   "source": [
    "def num(a, b, c):\n",
    "    print (a, b, c)\n",
    "\n",
    "num(1, 2, 3)    "
   ]
  },
  {
   "cell_type": "code",
   "execution_count": 2,
   "id": "2d628bed",
   "metadata": {},
   "outputs": [
    {
     "name": "stdout",
     "output_type": "stream",
     "text": [
      "3 2 1\n"
     ]
    }
   ],
   "source": [
    "def num (a, b, c):\n",
    "    print (a, b, c)\n",
    "\n",
    "num (c=1, b=2, a=3)"
   ]
  },
  {
   "cell_type": "code",
   "execution_count": 4,
   "id": "1e7f8b05",
   "metadata": {},
   "outputs": [
    {
     "name": "stdout",
     "output_type": "stream",
     "text": [
      "1 2\n",
      "3\n",
      "4\n",
      "5\n",
      "Six 6\n",
      "Seven 7\n"
     ]
    }
   ],
   "source": [
    "def foo (a, b, *args, **kwargs):\n",
    "    print (a, b)\n",
    "    for arg in args:\n",
    "        print (arg)\n",
    "    for key in kwargs:\n",
    "        print (key, kwargs[key])    \n",
    "\n",
    "foo (1, 2, 3, 4, 5, Six=6, Seven=7)        "
   ]
  },
  {
   "cell_type": "code",
   "execution_count": 6,
   "id": "c7943eca",
   "metadata": {},
   "outputs": [
    {
     "name": "stdout",
     "output_type": "stream",
     "text": [
      "1\n",
      "2\n",
      "3\n",
      "100\n"
     ]
    }
   ],
   "source": [
    "def foo (*args, last):\n",
    "    for arg in args:\n",
    "        print (arg)\n",
    "    print (last)\n",
    "\n",
    "foo (1, 2, 3, last=100)        "
   ]
  },
  {
   "cell_type": "code",
   "execution_count": 1,
   "id": "7e33f55c",
   "metadata": {},
   "outputs": [
    {
     "name": "stdout",
     "output_type": "stream",
     "text": [
      "0 1 2\n"
     ]
    }
   ],
   "source": [
    "def foo(a, b, c):\n",
    "    print (a, b, c)\n",
    "\n",
    "my_list = (0, 1, 2)\n",
    "foo(*my_list)    "
   ]
  },
  {
   "cell_type": "code",
   "execution_count": 2,
   "id": "b3d44aba",
   "metadata": {},
   "outputs": [
    {
     "name": "stdout",
     "output_type": "stream",
     "text": [
      "Number inside function: 0\n",
      "3\n"
     ]
    }
   ],
   "source": [
    "def foo():\n",
    "    global number\n",
    "    x = number\n",
    "    number = 3\n",
    "    print (\"Number inside function:\", x)\n",
    "\n",
    "number = 0 \n",
    "foo ()\n",
    "print (number)    "
   ]
  },
  {
   "cell_type": "code",
   "execution_count": 3,
   "id": "c7b77a6f",
   "metadata": {},
   "outputs": [
    {
     "name": "stdout",
     "output_type": "stream",
     "text": [
      "[1, 2, 3, 4]\n"
     ]
    }
   ],
   "source": [
    "def foo(a_list):\n",
    "    a_list.append(4)\n",
    "\n",
    "my_list = [1, 2, 3]    \n",
    "foo (my_list)\n",
    "print (my_list)\n"
   ]
  },
  {
   "cell_type": "code",
   "execution_count": 4,
   "id": "4f29dd0d",
   "metadata": {},
   "outputs": [
    {
     "name": "stdout",
     "output_type": "stream",
     "text": [
      "[-100, 2, 3, 4]\n"
     ]
    }
   ],
   "source": [
    "def foo(a_list):\n",
    "    a_list.append(4)\n",
    "    a_list[0] = -100\n",
    "\n",
    "my_list = [1, 2, 3]\n",
    "foo (my_list)\n",
    "print (my_list)    "
   ]
  }
 ],
 "metadata": {
  "kernelspec": {
   "display_name": "Python 3",
   "language": "python",
   "name": "python3"
  },
  "language_info": {
   "codemirror_mode": {
    "name": "ipython",
    "version": 3
   },
   "file_extension": ".py",
   "mimetype": "text/x-python",
   "name": "python",
   "nbconvert_exporter": "python",
   "pygments_lexer": "ipython3",
   "version": "3.13.7"
  }
 },
 "nbformat": 4,
 "nbformat_minor": 5
}
